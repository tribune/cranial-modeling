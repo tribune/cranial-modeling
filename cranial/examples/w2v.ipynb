{
 "cells": [
  {
   "cell_type": "markdown",
   "metadata": {},
   "source": [
    "## Train a CBOW word vectors model"
   ]
  },
  {
   "cell_type": "code",
   "execution_count": 1,
   "metadata": {},
   "outputs": [
    {
     "name": "stdout",
     "output_type": "stream",
     "text": [
      "Populating the interactive namespace from numpy and matplotlib\n"
     ]
    }
   ],
   "source": [
    "%pylab inline"
   ]
  },
  {
   "cell_type": "code",
   "execution_count": 2,
   "metadata": {},
   "outputs": [],
   "source": [
    "import csv\n",
    "csv.field_size_limit(100000000)\n",
    "\n",
    "import glob\n",
    "import os\n",
    "import sys"
   ]
  },
  {
   "cell_type": "code",
   "execution_count": 3,
   "metadata": {},
   "outputs": [],
   "source": [
    "import torch\n",
    "import torch.nn as nn\n",
    "import torch.nn.functional as F\n",
    "import torch.optim as optim"
   ]
  },
  {
   "cell_type": "code",
   "execution_count": 4,
   "metadata": {},
   "outputs": [],
   "source": [
    "from toolz.functoolz import compose"
   ]
  },
  {
   "cell_type": "code",
   "execution_count": 6,
   "metadata": {},
   "outputs": [],
   "source": []
  },
  {
   "cell_type": "code",
   "execution_count": 7,
   "metadata": {},
   "outputs": [],
   "source": [
    "os.environ['CRANIAL_LOGLEVEL'] = \"INFO\"\n",
    "from cranial.re_iter import ReMap, ReChain, ReFilter, Progress, ReBatch, DiskCache, ReZip\n",
    "from cranial.models.tokenizers import MosesTokenizer\n",
    "from cranial.models.gensim_models import GensimDictionary\n",
    "from cranial.model_base import StatefulModel"
   ]
  },
  {
   "cell_type": "markdown",
   "metadata": {},
   "source": [
    "## Define files list"
   ]
  },
  {
   "cell_type": "code",
   "execution_count": 8,
   "metadata": {},
   "outputs": [
    {
     "name": "stdout",
     "output_type": "stream",
     "text": [
      "['', 'id', 'title', 'publication', 'author', 'date', 'year', 'month', 'url', 'content']\n"
     ]
    }
   ],
   "source": [
    "files = glob.glob('data/*.csv')\n",
    "\n",
    "with open(files[0]) as f:\n",
    "    print(f.readline().strip().split(','))"
   ]
  },
  {
   "cell_type": "markdown",
   "metadata": {},
   "source": [
    "#### Helper function that returns generator of parsed lines from a file"
   ]
  },
  {
   "cell_type": "code",
   "execution_count": 9,
   "metadata": {},
   "outputs": [],
   "source": [
    "def read_csv(fname):\n",
    "    with open(fname) as f:\n",
    "        reader = csv.reader(f)\n",
    "        header = next(reader)\n",
    "        for line in reader:\n",
    "            yield dict(zip(header, line))"
   ]
  },
  {
   "cell_type": "markdown",
   "metadata": {},
   "source": [
    "## Instantiate objects and define tranformations pipeline"
   ]
  },
  {
   "cell_type": "code",
   "execution_count": 10,
   "metadata": {},
   "outputs": [],
   "source": [
    "# this will create a pathos process pool with size 4 and is it to process individual items\n",
    "mt = MosesTokenizer('path_to_/mosesdecoder/', proc_type='sub', n_proc=4)"
   ]
  },
  {
   "cell_type": "code",
   "execution_count": 11,
   "metadata": {},
   "outputs": [],
   "source": [
    "# file name -> generator of lines (records)\n",
    "out = ReMap(read_csv, files)\n",
    "\n",
    "# chain together all records from all generators\n",
    "records = ReChain(out, name='chain rows from files')\n",
    "\n",
    "# record -> text\n",
    "out = ReMap(lambda rec: rec['content'].lower(), records)\n",
    "\n",
    "# create batches of texts, join them all into single string with 4x new lines separators\n",
    "out = ReBatch(out, batch_size=2000)\n",
    "out = ReMap(lambda batch: '\\n\\n\\n\\n'.join(batch), out)\n",
    "\n",
    "# use moses tokenizer wrapper to convert text into a string where all tokens are separated by space\n",
    "out = mt.itransform(out)\n",
    "\n",
    "# split batched strings by 4x new lines and chain all results together\n",
    "out = ReMap(lambda s: s.split('\\n\\n\\n\\n'), out)\n",
    "out = ReChain(out)\n",
    "\n",
    "# just print the number of processed texts so far\n",
    "out = Progress(out, max_period=10000, name='OUT')\n",
    "\n",
    "# store to disk intermediate results to avoid costly re-runs\n",
    "out = DiskCache(out)\n",
    "\n",
    "# text -> list of tokens\n",
    "tokens = ReMap(lambda s: s.split(), out)"
   ]
  },
  {
   "cell_type": "markdown",
   "metadata": {},
   "source": [
    "## Train a dictionary\n",
    "\n",
    "Use gensim dictionary to control the size of the vocabulary and to convert tokens into integer IDs"
   ]
  },
  {
   "cell_type": "code",
   "execution_count": 12,
   "metadata": {
    "scrolled": true
   },
   "outputs": [
    {
     "name": "stderr",
     "output_type": "stream",
     "text": [
      "2018-07-03T08:49:06PDT - gensim_models.py - INFO - Init gensim dictionary with params:\n",
      "{'no_below_raw': 0, 'no_above_raw': 1.0, 'max_n_raw': 100000, 'no_below': 10, 'no_above': 1.0, 'max_n': 10000, 'dict_filter_every': 50000}\n",
      "2018-07-03T08:49:06PDT - gensim_models.py - INFO - Building gensim dictionary...\n",
      "2018-07-03T08:49:06PDT - re_iter.py - INFO - reMap:\tStart iter number 1\n",
      "2018-07-03T08:49:06PDT - re_iter.py - INFO - Disk Cache:\tStart iter number 1\n",
      "2018-07-03T08:49:06PDT - re_iter.py - INFO - Disk Cache:\tSaving iterable to 1bb3959f-7758-4d72-b7ea-6c0f127b8a4c\n",
      "2018-07-03T08:49:06PDT - re_iter.py - INFO - OUT:\tStart iter number 1\n",
      "2018-07-03T08:49:06PDT - re_iter.py - INFO - :\tStart iter number 1\n",
      "2018-07-03T08:49:06PDT - re_iter.py - INFO - reMap:\tStart iter number 1\n",
      "2018-07-03T08:49:06PDT - re_iter.py - INFO - MosesTokenizer sub:\tStart iter number 1\n",
      "2018-07-03T08:49:06PDT - re_iter.py - INFO - Trying to terminate previous pool\n",
      "2018-07-03T08:49:06PDT - re_iter.py - WARNING - Is this the first time creating a pool...\n",
      "2018-07-03T08:49:06PDT - re_iter.py - INFO - reMap:\tStart iter number 1\n",
      "2018-07-03T08:49:06PDT - re_iter.py - INFO - reBatch:\tStart iter number 1\n",
      "2018-07-03T08:49:06PDT - re_iter.py - INFO - reMap:\tStart iter number 1\n",
      "2018-07-03T08:49:06PDT - re_iter.py - INFO - chain rows from files:\tStart iter number 1\n",
      "2018-07-03T08:49:06PDT - re_iter.py - INFO - reMap:\tStart iter number 1\n",
      "2018-07-03T08:49:17PDT - re_iter.py - INFO - OUT yielded 1 items\n",
      "2018-07-03T08:49:17PDT - re_iter.py - INFO - OUT yielded 2 items\n",
      "2018-07-03T08:49:17PDT - re_iter.py - INFO - OUT yielded 5 items\n",
      "2018-07-03T08:49:17PDT - re_iter.py - INFO - OUT yielded 10 items\n",
      "2018-07-03T08:49:17PDT - re_iter.py - INFO - OUT yielded 20 items\n",
      "2018-07-03T08:49:17PDT - re_iter.py - INFO - OUT yielded 50 items\n",
      "2018-07-03T08:49:17PDT - re_iter.py - INFO - OUT yielded 100 items\n",
      "2018-07-03T08:49:17PDT - re_iter.py - INFO - OUT yielded 200 items\n",
      "2018-07-03T08:49:17PDT - re_iter.py - INFO - OUT yielded 500 items\n",
      "2018-07-03T08:49:17PDT - re_iter.py - INFO - OUT yielded 1000 items\n",
      "2018-07-03T08:49:18PDT - re_iter.py - INFO - OUT yielded 2000 items\n",
      "2018-07-03T08:49:18PDT - re_iter.py - INFO - OUT yielded 5000 items\n",
      "2018-07-03T08:49:24PDT - re_iter.py - INFO - OUT yielded 10000 items.\tspeed now 552.01\tEMA speed 552.01\n",
      "2018-07-03T08:49:39PDT - re_iter.py - INFO - OUT yielded 20000 items.\tspeed now 655.83\tEMA speed 562.39\n",
      "2018-07-03T08:49:51PDT - re_iter.py - INFO - OUT yielded 30000 items.\tspeed now 884.54\tEMA speed 594.61\n",
      "2018-07-03T08:50:04PDT - re_iter.py - INFO - OUT yielded 40000 items.\tspeed now 716.34\tEMA speed 606.78\n",
      "2018-07-03T08:50:26PDT - re_iter.py - INFO - OUT yielded 50000 items.\tspeed now 468.52\tEMA speed 592.95\n",
      "2018-07-03T08:50:37PDT - gensim_models.py - INFO - Current dictionary: Dictionary(215204 unique tokens: ['$', ',', '.', '13', '20']...)\n",
      "2018-07-03T08:50:37PDT - gensim_models.py - INFO - Filtering at 50000 documents\n",
      "2018-07-03T08:50:38PDT - gensim_models.py - INFO - Now dictionary: Dictionary(100000 unique tokens: ['$', ',', '.', '13', '20']...)\n",
      "2018-07-03T08:50:47PDT - re_iter.py - INFO - OUT yielded 60000 items.\tspeed now 463.07\tEMA speed 579.97\n",
      "2018-07-03T08:51:07PDT - re_iter.py - INFO - OUT yielded 70000 items.\tspeed now 513.42\tEMA speed 573.31\n",
      "2018-07-03T08:51:23PDT - re_iter.py - INFO - OUT yielded 80000 items.\tspeed now 629.87\tEMA speed 578.97\n",
      "2018-07-03T08:51:41PDT - re_iter.py - INFO - OUT yielded 90000 items.\tspeed now 548.88\tEMA speed 575.96\n",
      "2018-07-03T08:51:56PDT - re_iter.py - INFO - OUT yielded 100000 items.\tspeed now 660.14\tEMA speed 584.38\n",
      "2018-07-03T08:52:03PDT - gensim_models.py - INFO - Current dictionary: Dictionary(238507 unique tokens: ['$', ',', '.', '13', '20']...)\n",
      "2018-07-03T08:52:03PDT - gensim_models.py - INFO - Filtering at 100000 documents\n",
      "2018-07-03T08:52:04PDT - gensim_models.py - INFO - Now dictionary: Dictionary(100000 unique tokens: ['$', ',', '.', '13', '20']...)\n",
      "2018-07-03T08:52:13PDT - re_iter.py - INFO - OUT yielded 110000 items.\tspeed now 591.67\tEMA speed 585.11\n",
      "2018-07-03T08:52:30PDT - re_iter.py - INFO - OUT yielded 120000 items.\tspeed now 578.40\tEMA speed 584.44\n",
      "2018-07-03T08:52:58PDT - re_iter.py - INFO - OUT yielded 130000 items.\tspeed now 367.97\tEMA speed 562.79\n",
      "2018-07-03T08:53:10PDT - re_iter.py - INFO - reMap:\tFinished iter number 1\ttotal items: 3\ttotal time: 243.7 sec\n",
      "2018-07-03T08:53:10PDT - re_iter.py - INFO - chain rows from files:\tFinished iter number 1\ttotal items: 142570\ttotal time: 243.7 sec\n",
      "2018-07-03T08:53:10PDT - re_iter.py - INFO - reMap:\tFinished iter number 1\ttotal items: 142570\ttotal time: 243.7 sec\n",
      "2018-07-03T08:53:18PDT - re_iter.py - INFO - OUT yielded 140000 items.\tspeed now 476.87\tEMA speed 554.20\n",
      "2018-07-03T08:53:30PDT - re_iter.py - INFO - reBatch:\tFinished iter number 1\ttotal items: 72\ttotal time: 264.1 sec\n",
      "2018-07-03T08:53:30PDT - re_iter.py - INFO - reMap:\tFinished iter number 1\ttotal items: 72\ttotal time: 264.1 sec\n",
      "2018-07-03T08:53:30PDT - re_iter.py - INFO - MosesTokenizer sub:\tFinished iter number 1\ttotal items: 72\ttotal time: 264.1 sec\n",
      "2018-07-03T08:53:30PDT - re_iter.py - INFO - reMap:\tFinished iter number 1\ttotal items: 72\ttotal time: 264.1 sec\n",
      "2018-07-03T08:53:30PDT - re_iter.py - INFO - :\tFinished iter number 1\ttotal items: 142570\ttotal time: 264.1 sec\n",
      "2018-07-03T08:53:30PDT - re_iter.py - INFO - OUT:\tFinished iter number 1\ttotal items: 142570\ttotal time: 264.1 sec\n",
      "2018-07-03T08:53:30PDT - re_iter.py - INFO - Disk Cache:\tSaved iterable to 1bb3959f-7758-4d72-b7ea-6c0f127b8a4c, size 669,756,849\n",
      "2018-07-03T08:53:30PDT - re_iter.py - INFO - Disk Cache:\tFinished iter number 1\ttotal items: 142570\ttotal time: 264.1 sec\n",
      "2018-07-03T08:53:30PDT - re_iter.py - INFO - reMap:\tFinished iter number 1\ttotal items: 142570\ttotal time: 264.1 sec\n",
      "2018-07-03T08:53:33PDT - gensim_models.py - INFO - Final raw dictionary: Dictionary(100000 unique tokens: ['$', ',', '.', '13', '20']...)\n",
      "2018-07-03T08:53:34PDT - gensim_models.py - INFO - Final dictionary: Dictionary(10000 unique tokens: ['$', ',', '.', '13', '20']...)\n"
     ]
    }
   ],
   "source": [
    "gensim_dict = GensimDictionary({\n",
    "    'no_below_raw': 0,\n",
    "    'no_above_raw': 1.,\n",
    "    'max_n_raw': 100000,\n",
    "    'no_below': 10,\n",
    "    'no_above': 1.,\n",
    "    'max_n': 10000,\n",
    "    'dict_filter_every': 50000,\n",
    "})\n",
    "\n",
    "gensim_dict = gensim_dict.train(tokens)"
   ]
  },
  {
   "cell_type": "markdown",
   "metadata": {},
   "source": [
    "### Define tranformation from tokens to IDs "
   ]
  },
  {
   "cell_type": "code",
   "execution_count": 13,
   "metadata": {},
   "outputs": [],
   "source": [
    "# ise gensim dictionary to convert tokens to IDs, \n",
    "# each item in the resulting iterator is an original \n",
    "# text document represented as a list of integers\n",
    "ids = ReMap(lambda d: gensim_dict.state.model.doc2idx(d), tokens)\n",
    "\n",
    "# prune to go through the dataset faster so can go through it more times\n",
    "# this will improve randomization of training data\n",
    "ids = ReFilter(lambda _: np.random.rand() > 0.9, ids)\n",
    "\n",
    "# shiffle documents with buffer 20k\n",
    "ids = ReBatch(ids, batch_size=1000, only_full=True, shuffle=True, buffer_size=20000)\n",
    "ids = ReChain(ids)"
   ]
  },
  {
   "cell_type": "markdown",
   "metadata": {},
   "source": [
    "### Define tranformations from tokenized documents to training examples"
   ]
  },
  {
   "cell_type": "code",
   "execution_count": 14,
   "metadata": {},
   "outputs": [],
   "source": [
    "# set context window size (number of tokens on each side of a center token)\n",
    "ws = 3\n",
    "\n",
    "# make (context windows, center) pairs\n",
    "pairs = ReMap(lambda l: [(l[i:i+ws] + l[i+ws+1:i+2*ws+1], l[i+ws]) for i in range(len(l) - 2*ws)], ids)\n",
    "pairs = ReChain(pairs)\n",
    "\n",
    "# shuffle examples with buffer 100k and assemble into batches\n",
    "pairs = ReBatch(pairs, batch_size=256, only_full=True, shuffle=True, buffer_size=100000)"
   ]
  },
  {
   "cell_type": "markdown",
   "metadata": {},
   "source": [
    "### Transform batches into pytorch tensors"
   ]
  },
  {
   "cell_type": "code",
   "execution_count": null,
   "metadata": {},
   "outputs": [],
   "source": [
    "def collate_fn(batch):\n",
    "    \"\"\"Convert a batch of python lists of integers into pytorch tensors\"\"\"\n",
    "    # shift all IDs by 1 to adjust for unknown words which have ID = -1 in gensim\n",
    "    x = torch.LongTensor([pair[0] for pair in batch]) + 1 \n",
    "    y = torch.LongTensor([pair[1] for pair in batch]) + 1\n",
    "    return (x, y)"
   ]
  },
  {
   "cell_type": "code",
   "execution_count": null,
   "metadata": {},
   "outputs": [],
   "source": [
    "batches = ReMap(collate_fn, pairs)"
   ]
  },
  {
   "cell_type": "markdown",
   "metadata": {},
   "source": [
    "## Define pytorch model"
   ]
  },
  {
   "cell_type": "code",
   "execution_count": 15,
   "metadata": {},
   "outputs": [],
   "source": [
    "class CBOW(nn.Module):\n",
    "\n",
    "    def __init__(self, vocab_size, embedding_dim):\n",
    "        super().__init__()\n",
    "        self.emb = nn.EmbeddingBag(vocab_size, embedding_dim, scale_grad_by_freq=True)\n",
    "        self.lin = nn.Linear(embedding_dim, vocab_size)\n",
    "        self.lin.weight = self.emb.weight\n",
    "\n",
    "    def forward(self, x):\n",
    "        out = self.emb(x)\n",
    "        out = self.lin(out)\n",
    "        out = F.log_softmax(out, dim=1)\n",
    "        return out"
   ]
  },
  {
   "cell_type": "markdown",
   "metadata": {},
   "source": [
    "### Instantiate and train"
   ]
  },
  {
   "cell_type": "code",
   "execution_count": 17,
   "metadata": {},
   "outputs": [],
   "source": [
    "cbow = CBOW(len(gensim_dict.state.model)+1, 128)\n",
    "loss_fn = nn.NLLLoss()\n",
    "optimizer = optim.Adam(cbow.parameters(), lr=0.001)\n",
    "losses = []"
   ]
  },
  {
   "cell_type": "code",
   "execution_count": null,
   "metadata": {
    "scrolled": true
   },
   "outputs": [],
   "source": [
    "for ep in range(5):\n",
    "    for i, (x, y) in enumerate(Progress(batches, max_period=1000, name='batches')):\n",
    "        optimizer.zero_grad()\n",
    "        out = cbow(x)\n",
    "        loss = loss_fn(out, y)\n",
    "        loss.backward()\n",
    "        optimizer.step()\n",
    "        losses.append(loss.item())\n",
    "        if i % 100 == 0:\n",
    "            print(i, '\\t', loss.item())"
   ]
  },
  {
   "cell_type": "code",
   "execution_count": 125,
   "metadata": {},
   "outputs": [
    {
     "data": {
      "text/plain": [
       "[<matplotlib.lines.Line2D at 0x1a2b658ba8>]"
      ]
     },
     "execution_count": 125,
     "metadata": {},
     "output_type": "execute_result"
    },
    {
     "data": {
      "image/png": "[encoded data removed]",
      "text/plain": [
       "<Figure size 432x288 with 1 Axes>"
      ]
     },
     "metadata": {},
     "output_type": "display_data"
    }
   ],
   "source": [
    "semilogy(losses)"
   ]
  },
  {
   "cell_type": "markdown",
   "metadata": {},
   "source": [
    "## Do a little bit of words math"
   ]
  },
  {
   "cell_type": "code",
   "execution_count": 151,
   "metadata": {},
   "outputs": [],
   "source": [
    "v1 = sum([cbow.emb.weight[gensim_dict.state.model.token2id[w] + 1] for w in 'washington'.split()])\n",
    "v2 = sum([cbow.emb.weight[gensim_dict.state.model.token2id[w] + 1] for w in 'america'.split()])\n",
    "v3 = sum([cbow.emb.weight[gensim_dict.state.model.token2id[w] + 1] for w in 'russia'.split()])\n",
    "\n",
    "vq = v1 - v2 + v3"
   ]
  },
  {
   "cell_type": "code",
   "execution_count": 152,
   "metadata": {},
   "outputs": [],
   "source": [
    "distances = torch.sum((cbow.emb.weight - vq)**2, dim=1)"
   ]
  },
  {
   "cell_type": "code",
   "execution_count": 153,
   "metadata": {},
   "outputs": [
    {
     "name": "stdout",
     "output_type": "stream",
     "text": [
      "tensor(28.6929) \t washington\n",
      "tensor(32.9521) \t moscow\n",
      "tensor(33.3162) \t post\n",
      "tensor(35.9955) \t russia\n",
      "tensor(40.3321) \t post.\n",
      "tensor(40.5119) \t sanctions\n",
      "tensor(41.0595) \t russian\n",
      "tensor(41.3179) \t c.\n",
      "tensor(41.9050) \t kislyak\n",
      "tensor(43.6825) \t sergey\n",
      "tensor(44.4279) \t russia.\n",
      "tensor(44.6247) \t tehran\n",
      "tensor(44.7495) \t d.\n",
      "tensor(45.2658) \t ambassador\n",
      "tensor(46.1342) \t diplomatic\n"
     ]
    }
   ],
   "source": [
    "ds, ixs = torch.sort(distances, 0)\n",
    "for i, d, j in zip(range(15), ds, ixs):\n",
    "    j = j.item()\n",
    "    if j > 0:\n",
    "        print(d, '\\t', gensim_dict.state.model.id2token[j-1])"
   ]
  },
  {
   "cell_type": "markdown",
   "metadata": {},
   "source": [
    "Moscow in the second place - good enough."
   ]
  },
  {
   "cell_type": "code",
   "execution_count": null,
   "metadata": {},
   "outputs": [],
   "source": []
  }
 ],
 "metadata": {
  "kernelspec": {
   "display_name": "Python 3",
   "language": "python",
   "name": "python3"
  },
  "language_info": {
   "codemirror_mode": {
    "name": "ipython",
    "version": 3
   },
   "file_extension": ".py",
   "mimetype": "text/x-python",
   "name": "python",
   "nbconvert_exporter": "python",
   "pygments_lexer": "ipython3",
   "version": "3.6.5"
  }
 },
 "nbformat": 4,
 "nbformat_minor": 2
}
